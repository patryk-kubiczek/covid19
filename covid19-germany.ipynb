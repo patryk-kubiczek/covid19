{
 "cells": [
  {
   "cell_type": "code",
   "execution_count": 1,
   "metadata": {},
   "outputs": [],
   "source": [
    "import pickle\n",
    "import pandas as pd\n",
    "import numpy as np\n",
    "import datetime\n",
    "from scipy import stats\n",
    "from matplotlib import pyplot as plt\n",
    "from matplotlib import dates as mdates\n",
    "from ipywidgets import interact\n",
    "import seaborn as sn\n",
    "%matplotlib inline\n",
    "\n",
    "from scrape_data import query"
   ]
  },
  {
   "cell_type": "code",
   "execution_count": null,
   "metadata": {
    "scrolled": false
   },
   "outputs": [],
   "source": [
    "delta_dt = datetime.timedelta(hours=12)\n",
    "# Download data from the last 12 hours\n",
    "initial_dt = datetime.datetime.now() - delta_dt\n",
    "query(initial_dt, delta_dt)"
   ]
  },
  {
   "cell_type": "code",
   "execution_count": null,
   "metadata": {},
   "outputs": [],
   "source": [
    "with open(\"data.pkl\", \"rb\") as file:\n",
    "    df_list, dt_list = pickle.load(file)"
   ]
  },
  {
   "cell_type": "code",
   "execution_count": null,
   "metadata": {
    "scrolled": false
   },
   "outputs": [],
   "source": [
    "series_list = []\n",
    "\n",
    "for df, dt in zip(df_list, dt_list):\n",
    "    if \"Bundesland\" not in df.columns:\n",
    "        df.columns = df.iloc[0]\n",
    "    df = df[df[\"Bundesland\"] != \"Bundesland\"]\n",
    "    df = df.replace(\"Schleswig Holstein\", \"Schleswig-Holstein\")\n",
    "    series = df.set_index(\"Bundesland\")[\"Fälle\"]\n",
    "    series.name = dt\n",
    "    series_list.append(series)\n",
    "    #print(dt, \"\\n\", series, \"\\n\")\n",
    "\n",
    "df = pd.concat(series_list, axis=1, sort=True).transpose()\n",
    "df = df.fillna(0).astype(int)\n",
    "df = df.drop(columns=[\"Repatriierte\"])\n",
    "if \"Sachsen-Anhalt\" not in df.columns:\n",
    "    df[\"Sachsen-Anhalt\"] = 0\n",
    "    df = df.reindex(sorted(df.columns), axis=1)\n",
    "df.insert(0, \"Total\", df.pop(\"Gesamt\"))\n",
    "df = df.reset_index().rename(columns={\"index\": \"Time\"})\n",
    "df[\"Time\"] = pd.to_datetime(df[\"Time\"])\n",
    "\n",
    "df.to_csv(\"covid19-germany-lands.csv\")\n",
    "\n",
    "df"
   ]
  },
  {
   "cell_type": "code",
   "execution_count": null,
   "metadata": {},
   "outputs": [],
   "source": [
    "@interact(land=df.columns.to_list()[1:])\n",
    "def plot_cases(land=\"Total\", log_scale=False, show_fit=False):\n",
    "    fig, ax = plt.subplots(figsize=(6,4), dpi=120)\n",
    "    sn.lineplot(df[\"Time\"], df[land], marker=\"o\", ax=ax)\n",
    "            \n",
    "    ax.xaxis.set_major_locator(mdates.DayLocator())\n",
    "    ax.xaxis.set_major_formatter(mdates.DateFormatter('%d-%m'))\n",
    "    plt.xticks(rotation=45)\n",
    "    ax.grid()\n",
    "    ax.set_ylabel(\"Cases\")\n",
    "    \n",
    "    doubling_time = None\n",
    "    \n",
    "    ## Fit an exponential curve\n",
    "    if show_fit:\n",
    "        non_zero_data = df[[\"Time\", land]][df[land] > 0]\n",
    "        if len(non_zero_data) > 0:\n",
    "            t = np.array([dt.timestamp() for dt in non_zero_data[\"Time\"]])\n",
    "            log_n = np.log2(non_zero_data[land].to_numpy())\n",
    "            a, b, r_value, p_value, std_err = stats.linregress(t, log_n)\n",
    "            t_dense = np.linspace(t[0], t[-1], 100)\n",
    "            log_n_model = a * t_dense + b\n",
    "            datetimes = np.array([datetime.datetime.fromtimestamp(ts) for ts in t_dense])\n",
    "            n_model = 2**log_n_model\n",
    "            doubling_time = 1. / (a * 3600 * 24)\n",
    "            ax.plot(datetimes, n_model, zorder=-1)\n",
    "        \n",
    "    if log_scale:\n",
    "        ax.set_yscale('log')\n",
    "    else:\n",
    "        ax.set_ylim([0, None])\n",
    "\n",
    "    if land == \"Total\":\n",
    "        land = \"Germany\"\n",
    "    ax.set_title(f\"COVID-19 cases in {land} (RKI data)\" \n",
    "                 + (\"\" if doubling_time is None else f\" \\n Doubling time: {doubling_time:.1f} days\"))\n",
    "    fig.tight_layout()\n",
    "    fig.savefig(\"covid19-germany.png\")\n",
    "    plt.show()"
   ]
  }
 ],
 "metadata": {
  "kernelspec": {
   "display_name": "Python 3",
   "language": "python",
   "name": "python3"
  },
  "language_info": {
   "codemirror_mode": {
    "name": "ipython",
    "version": 3
   },
   "file_extension": ".py",
   "mimetype": "text/x-python",
   "name": "python",
   "nbconvert_exporter": "python",
   "pygments_lexer": "ipython3",
   "version": "3.7.5"
  },
  "toc": {
   "base_numbering": 1,
   "nav_menu": {},
   "number_sections": true,
   "sideBar": true,
   "skip_h1_title": false,
   "title_cell": "Table of Contents",
   "title_sidebar": "Contents",
   "toc_cell": false,
   "toc_position": {},
   "toc_section_display": true,
   "toc_window_display": false
  }
 },
 "nbformat": 4,
 "nbformat_minor": 2
}
